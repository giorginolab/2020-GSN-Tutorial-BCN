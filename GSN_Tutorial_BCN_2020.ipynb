{
  "nbformat": 4,
  "nbformat_minor": 0,
  "metadata": {
    "colab": {
      "name": "GSN-Tutorial-BCN-2020.ipynb",
      "provenance": [],
      "collapsed_sections": [],
      "authorship_tag": "ABX9TyOPL3Wokn9leHvfK9KEejZy",
      "include_colab_link": true
    },
    "kernelspec": {
      "name": "python3",
      "display_name": "Python 3"
    }
  },
  "cells": [
    {
      "cell_type": "markdown",
      "metadata": {
        "id": "view-in-github",
        "colab_type": "text"
      },
      "source": [
        "<a href=\"https://colab.research.google.com/github/giorginolab/GSN-Tutorial-BCN-2020/blob/master/GSN_Tutorial_BCN_2020.ipynb\" target=\"_parent\"><img src=\"https://colab.research.google.com/assets/colab-badge.svg\" alt=\"Open In Colab\"/></a>"
      ]
    },
    {
      "cell_type": "markdown",
      "metadata": {
        "id": "SBPzAT4qCrW1",
        "colab_type": "text"
      },
      "source": [
        "# MD analysis: Gelsolin WT/mutant, apo/nanobody example \n",
        "## MSI course, Master in Bioinformatics for Health Sciences, UPF\n",
        "*Toni Giorgino, IBF-CNR, Italy* - www.giorginolab.it\n",
        "\n",
        "[![Open In Colab](https://colab.research.google.com/assets/colab-badge.svg)](https://colab.research.google.com/drive/1Pt9gGqiGtrA9_5VRr4J7h3D_WLrBK4k8)\n",
        "\n",
        "This is a Python notebook, based on Google Colaboratory platform. For an introduction to the platform, see [here](https://colab.research.google.com/notebooks/welcome.ipynb). You will be able to edit Python statements on this notebook by entering them into \"cells\", and execute them with the \"play\" button.\n",
        "\n",
        "Notes:\n",
        " * The order of execution matters, not the order of display. \n",
        " * To start from scratch, restart the runtime. \n",
        " * Shell commands: prefix with an ! symbol.  E.g. `!ls -l` lists the contents of the current directory.\n",
        " * If you don't have a Google account, you may copy-paste the  statements in  local Python installations.\n",
        " * To plot, see examples [here](https://colab.research.google.com/notebooks/charts.ipynb).\n",
        "\n",
        "The class is based on the following paper:\n",
        "\n",
        "> Giorgino T, Analysis libraries for molecular trajectories: a cross-language synopsis. Chapter 20 in:  Biomolecular Simulations: Methods and Protocols Edited by M. Bonomi and C. Camilloni (Springer, ISBN 978-1-4939-9608-7).  [Preprint here](https://github.com/giorginolab/preprints-repository/tree/master/analysis_libraries_chapter)\n",
        "\n",
        "and on the biological example from:\n",
        "\n",
        "> Giorgino T, Mattioni D, Hassan A, Milani M, Mastrangelo E, Barbiroli A, et al. Nanobody interaction unveils structure, dynamics and proteotoxicity of the Finnish-type amyloidogenic gelsolin variant. Biochimica et Biophysica Acta (BBA) - Molecular Basis of Disease. 2019 Mar 1;1865(3):648–60. [Journal version](https://www.sciencedirect.com/science/article/pii/S0925443919300109?via%3Dihub). [Preprint here](https://arxiv.org/abs/1903.07308).\n",
        "\n",
        "\n",
        "\n"
      ]
    },
    {
      "cell_type": "markdown",
      "metadata": {
        "id": "3YeAHzknEP1D",
        "colab_type": "text"
      },
      "source": [
        "# Retrieve simulation trajectories\n",
        "\n",
        "This copies data on the server which is running the calculations (not your computer). See below to download files to your PC."
      ]
    },
    {
      "cell_type": "code",
      "metadata": {
        "id": "hyKBH8TnBIPT",
        "colab_type": "code",
        "colab": {
          "base_uri": "https://localhost:8080/",
          "height": 121
        },
        "cellView": "code",
        "outputId": "0f350a67-efde-481c-b1a3-b209affd46b4"
      },
      "source": [
        "#@title Default title text\n",
        "# Get the data files\n",
        "! git clone https://github.com/giorginolab/GSN-Tutorial-BCN-2020.git"
      ],
      "execution_count": 1,
      "outputs": [
        {
          "output_type": "stream",
          "text": [
            "Cloning into 'GSN-Tutorial-BCN-2020'...\n",
            "remote: Enumerating objects: 35, done.\u001b[K\n",
            "remote: Counting objects: 100% (35/35), done.\u001b[K\n",
            "remote: Compressing objects: 100% (26/26), done.\u001b[K\n",
            "remote: Total 35 (delta 10), reused 23 (delta 7), pack-reused 0\u001b[K\n",
            "Unpacking objects: 100% (35/35), done.\n"
          ],
          "name": "stdout"
        }
      ]
    },
    {
      "cell_type": "code",
      "metadata": {
        "id": "vDoHxl0qD4OY",
        "colab_type": "code",
        "colab": {
          "base_uri": "https://localhost:8080/",
          "height": 34
        },
        "outputId": "688c883d-6ccf-4129-923e-5540ac75bdfd"
      },
      "source": [
        "%cd /content/GSN-Tutorial-BCN-2020/data"
      ],
      "execution_count": 2,
      "outputs": [
        {
          "output_type": "stream",
          "text": [
            "/content/GSN-Tutorial-BCN-2020/data\n"
          ],
          "name": "stdout"
        }
      ]
    },
    {
      "cell_type": "code",
      "metadata": {
        "id": "g-nlbb0aECLB",
        "colab_type": "code",
        "colab": {
          "base_uri": "https://localhost:8080/",
          "height": 260
        },
        "outputId": "9d64929c-abce-4919-f0ea-6e0829fa2fe7"
      },
      "source": [
        "!ls -l"
      ],
      "execution_count": 3,
      "outputs": [
        {
          "output_type": "stream",
          "text": [
            "total 66820\n",
            "-rw-r--r-- 1 root root  3505896 Apr 23 18:09 D187N+Nb-run.pdb\n",
            "-rw-r--r-- 1 root root  4938249 Apr 23 18:09 D187N+Nb-run.psf\n",
            "-rw-r--r-- 1 root root  9578580 Apr 23 18:09 D187N+Nb-run-subset.xtc\n",
            "-rw-r--r-- 1 root root  2086286 Apr 23 18:09 D187N-run.pdb\n",
            "-rw-r--r-- 1 root root  2877716 Apr 23 18:09 D187N-run.psf\n",
            "-rw-r--r-- 1 root root  8284912 Apr 23 18:09 D187N-run-subset.xtc\n",
            "-rw-r--r-- 1 root root      296 Apr 23 18:09 load-all.vmd\n",
            "-rw-r--r-- 1 root root  3505653 Apr 23 18:09 WT+Nb-run.pdb\n",
            "-rw-r--r-- 1 root root  4937615 Apr 23 18:09 WT+Nb-run.psf\n",
            "-rw-r--r-- 1 root root 14860688 Apr 23 18:09 WT+Nb-run-subset.xtc\n",
            "-rw-r--r-- 1 root root  2086286 Apr 23 18:09 WT-run.pdb\n",
            "-rw-r--r-- 1 root root  2877395 Apr 23 18:09 WT-run.psf\n",
            "-rw-r--r-- 1 root root  8856064 Apr 23 18:09 WT-run-subset.xtc\n"
          ],
          "name": "stdout"
        }
      ]
    },
    {
      "cell_type": "markdown",
      "metadata": {
        "id": "gvsBebPvp3HH",
        "colab_type": "text"
      },
      "source": [
        "# Download results to your PC\n",
        "\n",
        "To download any file (not necessary, but may be useful to inspect results), use this..."
      ]
    },
    {
      "cell_type": "code",
      "metadata": {
        "id": "Y3wN3qB9p_ev",
        "colab_type": "code",
        "colab": {}
      },
      "source": [
        "from google.colab import files\n",
        "\n",
        "# files.download('example.txt')"
      ],
      "execution_count": 0,
      "outputs": []
    },
    {
      "cell_type": "markdown",
      "metadata": {
        "id": "vG8uOOqyETyO",
        "colab_type": "text"
      },
      "source": [
        "# Install Python libraries"
      ]
    },
    {
      "cell_type": "code",
      "metadata": {
        "id": "4HCT1_PtEC0c",
        "colab_type": "code",
        "colab": {
          "base_uri": "https://localhost:8080/",
          "height": 503
        },
        "outputId": "a31064ad-0a75-4a86-ff98-bc607a471e28"
      },
      "source": [
        "# !pip install mdtraj\n",
        "# !pip install mdanalysis\n",
        "!pip install moleculekit\n"
      ],
      "execution_count": 5,
      "outputs": [
        {
          "output_type": "stream",
          "text": [
            "Collecting moleculekit\n",
            "\u001b[?25l  Downloading https://files.pythonhosted.org/packages/40/39/e7c3ea68289cf49ac58a53a55de11c71471a26c55268ce2a11dd3d0f4b1d/moleculekit-0.3.0-py3-none-any.whl (5.2MB)\n",
            "\u001b[K     |████████████████████████████████| 5.2MB 2.6MB/s \n",
            "\u001b[?25hCollecting pandas<=0.25.3\n",
            "\u001b[?25l  Downloading https://files.pythonhosted.org/packages/52/3f/f6a428599e0d4497e1595030965b5ba455fd8ade6e977e3c819973c4b41d/pandas-0.25.3-cp36-cp36m-manylinux1_x86_64.whl (10.4MB)\n",
            "\u001b[K     |████████████████████████████████| 10.4MB 34.4MB/s \n",
            "\u001b[?25hRequirement already satisfied: networkx in /usr/local/lib/python3.6/dist-packages (from moleculekit) (2.4)\n",
            "Requirement already satisfied: numpy>=1.17 in /usr/local/lib/python3.6/dist-packages (from moleculekit) (1.18.2)\n",
            "Requirement already satisfied: numba in /usr/local/lib/python3.6/dist-packages (from moleculekit) (0.48.0)\n",
            "Requirement already satisfied: scipy in /usr/local/lib/python3.6/dist-packages (from moleculekit) (1.4.1)\n",
            "Requirement already satisfied: tqdm in /usr/local/lib/python3.6/dist-packages (from moleculekit) (4.38.0)\n",
            "Requirement already satisfied: pytz>=2017.2 in /usr/local/lib/python3.6/dist-packages (from pandas<=0.25.3->moleculekit) (2018.9)\n",
            "Requirement already satisfied: python-dateutil>=2.6.1 in /usr/local/lib/python3.6/dist-packages (from pandas<=0.25.3->moleculekit) (2.8.1)\n",
            "Requirement already satisfied: decorator>=4.3.0 in /usr/local/lib/python3.6/dist-packages (from networkx->moleculekit) (4.4.2)\n",
            "Requirement already satisfied: setuptools in /usr/local/lib/python3.6/dist-packages (from numba->moleculekit) (46.1.3)\n",
            "Requirement already satisfied: llvmlite<0.32.0,>=0.31.0dev0 in /usr/local/lib/python3.6/dist-packages (from numba->moleculekit) (0.31.0)\n",
            "Requirement already satisfied: six>=1.5 in /usr/local/lib/python3.6/dist-packages (from python-dateutil>=2.6.1->pandas<=0.25.3->moleculekit) (1.12.0)\n",
            "\u001b[31mERROR: google-colab 1.0.0 has requirement pandas~=1.0.0; python_version >= \"3.0\", but you'll have pandas 0.25.3 which is incompatible.\u001b[0m\n",
            "Installing collected packages: pandas, moleculekit\n",
            "  Found existing installation: pandas 1.0.3\n",
            "    Uninstalling pandas-1.0.3:\n",
            "      Successfully uninstalled pandas-1.0.3\n",
            "Successfully installed moleculekit-0.3.0 pandas-0.25.3\n"
          ],
          "name": "stdout"
        },
        {
          "output_type": "display_data",
          "data": {
            "application/vnd.colab-display-data+json": {
              "pip_warning": {
                "packages": [
                  "pandas"
                ]
              }
            }
          },
          "metadata": {
            "tags": []
          }
        }
      ]
    },
    {
      "cell_type": "markdown",
      "metadata": {
        "id": "wBEwTuEOPcuo",
        "colab_type": "text"
      },
      "source": [
        "# Analysis starts here\n",
        "\n",
        "We will make use of Python (and its Numpy library) functions to answer a series of questions. Access to the molecular properties will use the Moleculekit functions ([manual](https://software.acellera.com/docs/latest/moleculekit/index.html)).  \n",
        "\n",
        "Rewriting them in one of the other libraries and languages may be an useful exercise."
      ]
    },
    {
      "cell_type": "code",
      "metadata": {
        "id": "N5TlwHcrFX9c",
        "colab_type": "code",
        "colab": {}
      },
      "source": [
        "#import MDAnalysis as mda\n",
        "import moleculekit as mk\n",
        "import numpy as np\n",
        "import matplotlib.pyplot as plt\n",
        "from moleculekit.molecule import Molecule"
      ],
      "execution_count": 0,
      "outputs": []
    },
    {
      "cell_type": "code",
      "metadata": {
        "id": "6o_snsVfQrUV",
        "colab_type": "code",
        "colab": {}
      },
      "source": [
        "# The file set we plan to analyze. In this case it may be WT, WT+Nb, \n",
        "# D187N, D187N+Nb .\n",
        "\n",
        "pdb=\"WT+Nb-run.pdb\"\n",
        "xtc=\"WT+Nb-run-subset.xtc\"\n",
        "\n",
        "# psf=\"WT+Nb-run.psf\"  # but we don't use this one\n"
      ],
      "execution_count": 0,
      "outputs": []
    },
    {
      "cell_type": "code",
      "metadata": {
        "id": "DsyB-Yo3SKBD",
        "colab_type": "code",
        "colab": {}
      },
      "source": [
        "m=Molecule(pdb)"
      ],
      "execution_count": 0,
      "outputs": []
    },
    {
      "cell_type": "code",
      "metadata": {
        "id": "gxnnNWpXWMvr",
        "colab_type": "code",
        "colab": {
          "base_uri": "https://localhost:8080/",
          "height": 590
        },
        "outputId": "f5728510-bafe-457a-b6aa-df7cb2c4c7fd"
      },
      "source": [
        "m"
      ],
      "execution_count": 9,
      "outputs": [
        {
          "output_type": "execute_result",
          "data": {
            "text/plain": [
              "<moleculekit.molecule.Molecule object at 0x7f3538bd4ba8>\n",
              "Molecule with 43279 atoms and 1 frames\n",
              "Atom field - altloc shape: (43279,)\n",
              "Atom field - atomtype shape: (43279,)\n",
              "Atom field - beta shape: (43279,)\n",
              "Atom field - chain shape: (43279,)\n",
              "Atom field - charge shape: (43279,)\n",
              "Atom field - coords shape: (43279, 3, 1)\n",
              "Atom field - element shape: (43279,)\n",
              "Atom field - insertion shape: (43279,)\n",
              "Atom field - masses shape: (43279,)\n",
              "Atom field - name shape: (43279,)\n",
              "Atom field - occupancy shape: (43279,)\n",
              "Atom field - record shape: (43279,)\n",
              "Atom field - resid shape: (43279,)\n",
              "Atom field - resname shape: (43279,)\n",
              "Atom field - segid shape: (43279,)\n",
              "Atom field - serial shape: (43279,)\n",
              "angles shape: (0, 3)\n",
              "bonds shape: (0, 2)\n",
              "bondtype shape: (0,)\n",
              "box shape: (3, 1)\n",
              "boxangles shape: (3, 1)\n",
              "crystalinfo: {}\n",
              "dihedrals shape: (0, 4)\n",
              "fileloc shape: (1, 2)\n",
              "impropers shape: (0, 4)\n",
              "reps: \n",
              "ssbonds shape: (0,)\n",
              "step shape: (1,)\n",
              "time shape: (1,)\n",
              "topoloc: /content/GSN-Tutorial-BCN-2020/data/WT+Nb-run.pdb\n",
              "viewname: WT+Nb-run.pdb"
            ]
          },
          "metadata": {
            "tags": []
          },
          "execution_count": 9
        }
      ]
    },
    {
      "cell_type": "code",
      "metadata": {
        "id": "YVnzs4U-SRUY",
        "colab_type": "code",
        "colab": {
          "base_uri": "https://localhost:8080/",
          "height": 590
        },
        "outputId": "2c30275c-18cc-443e-f39f-6c4eb85f43f8"
      },
      "source": [
        "m.read(xtc)\n",
        "m"
      ],
      "execution_count": 10,
      "outputs": [
        {
          "output_type": "execute_result",
          "data": {
            "text/plain": [
              "<moleculekit.molecule.Molecule object at 0x7f3538bd4ba8>\n",
              "Molecule with 43279 atoms and 80 frames\n",
              "Atom field - altloc shape: (43279,)\n",
              "Atom field - atomtype shape: (43279,)\n",
              "Atom field - beta shape: (43279,)\n",
              "Atom field - chain shape: (43279,)\n",
              "Atom field - charge shape: (43279,)\n",
              "Atom field - coords shape: (43279, 3, 80)\n",
              "Atom field - element shape: (43279,)\n",
              "Atom field - insertion shape: (43279,)\n",
              "Atom field - masses shape: (43279,)\n",
              "Atom field - name shape: (43279,)\n",
              "Atom field - occupancy shape: (43279,)\n",
              "Atom field - record shape: (43279,)\n",
              "Atom field - resid shape: (43279,)\n",
              "Atom field - resname shape: (43279,)\n",
              "Atom field - segid shape: (43279,)\n",
              "Atom field - serial shape: (43279,)\n",
              "angles shape: (0, 3)\n",
              "bonds shape: (0, 2)\n",
              "bondtype shape: (0,)\n",
              "box shape: (3, 80)\n",
              "boxangles shape: (3, 80)\n",
              "crystalinfo: {}\n",
              "dihedrals shape: (0, 4)\n",
              "fileloc shape: (80, 2)\n",
              "impropers shape: (0, 4)\n",
              "reps: \n",
              "ssbonds shape: (0,)\n",
              "step shape: (80,)\n",
              "time shape: (80,)\n",
              "topoloc: /content/GSN-Tutorial-BCN-2020/data/WT+Nb-run.pdb\n",
              "viewname: WT+Nb-run.pdb"
            ]
          },
          "metadata": {
            "tags": []
          },
          "execution_count": 10
        }
      ]
    },
    {
      "cell_type": "markdown",
      "metadata": {
        "id": "tSnNdZf9V-YM",
        "colab_type": "text"
      },
      "source": [
        "# Exercises\n",
        "\n",
        "Write code to answer the following questions"
      ]
    },
    {
      "cell_type": "markdown",
      "metadata": {
        "id": "YUJSXph9WSdR",
        "colab_type": "text"
      },
      "source": [
        "## How many chains are there? \n",
        "\n",
        "Note that these are simulation structures, and may use chains for different purposes than crystallographic structures."
      ]
    },
    {
      "cell_type": "code",
      "metadata": {
        "id": "z0ykD_tgbXdD",
        "colab_type": "code",
        "colab": {
          "base_uri": "https://localhost:8080/",
          "height": 34
        },
        "outputId": "c5a10f12-7618-415b-8a30-635159086803"
      },
      "source": [
        "# Write and test your answer here\n",
        "\n",
        "np.unique(m.chain)"
      ],
      "execution_count": 11,
      "outputs": [
        {
          "output_type": "execute_result",
          "data": {
            "text/plain": [
              "array(['B', 'D', 'I', 'W'], dtype=object)"
            ]
          },
          "metadata": {
            "tags": []
          },
          "execution_count": 11
        }
      ]
    },
    {
      "cell_type": "markdown",
      "metadata": {
        "id": "TirrLCIoWYZ2",
        "colab_type": "text"
      },
      "source": [
        "## How many residues per each chain?"
      ]
    },
    {
      "cell_type": "code",
      "metadata": {
        "id": "qP8eCKdQcmt5",
        "colab_type": "code",
        "colab": {
          "base_uri": "https://localhost:8080/",
          "height": 156
        },
        "outputId": "3e937d2c-1b51-447a-df05-b53b483b3715"
      },
      "source": [
        "for ch in np.unique(m.chain):\n",
        "  tmp = m.copy()\n",
        "  tmp.filter(f\"protein and chain {ch} and name CA\")\n",
        "  nres = tmp.numAtoms\n",
        "  print(f\"Chain {ch} has {nres} residues (CA atoms)\")"
      ],
      "execution_count": 12,
      "outputs": [
        {
          "output_type": "stream",
          "text": [
            "2020-04-23 18:10:08,464 - moleculekit.molecule - INFO - Removed 43153 atoms. 126 atoms remaining in the molecule.\n"
          ],
          "name": "stderr"
        },
        {
          "output_type": "stream",
          "text": [
            "Chain B has 126 residues (CA atoms)\n"
          ],
          "name": "stdout"
        },
        {
          "output_type": "stream",
          "text": [
            "2020-04-23 18:10:09,468 - moleculekit.molecule - INFO - Removed 43177 atoms. 102 atoms remaining in the molecule.\n"
          ],
          "name": "stderr"
        },
        {
          "output_type": "stream",
          "text": [
            "Chain D has 102 residues (CA atoms)\n"
          ],
          "name": "stdout"
        },
        {
          "output_type": "stream",
          "text": [
            "2020-04-23 18:10:10,466 - moleculekit.molecule - INFO - Removed 43279 atoms. 0 atoms remaining in the molecule.\n"
          ],
          "name": "stderr"
        },
        {
          "output_type": "stream",
          "text": [
            "Chain I has 0 residues (CA atoms)\n"
          ],
          "name": "stdout"
        },
        {
          "output_type": "stream",
          "text": [
            "2020-04-23 18:10:11,458 - moleculekit.molecule - INFO - Removed 43279 atoms. 0 atoms remaining in the molecule.\n"
          ],
          "name": "stderr"
        },
        {
          "output_type": "stream",
          "text": [
            "Chain W has 0 residues (CA atoms)\n"
          ],
          "name": "stdout"
        }
      ]
    },
    {
      "cell_type": "code",
      "metadata": {
        "id": "f6X4j86necPO",
        "colab_type": "code",
        "colab": {
          "base_uri": "https://localhost:8080/",
          "height": 86
        },
        "outputId": "a86fbb4b-04ec-44ae-da8e-b69ba29befdc"
      },
      "source": [
        "# Alternative (non-destructive) implementation\n",
        "for ch in np.unique(m.chain):\n",
        "  asel=m.atomselect(f\"protein and chain {ch} and name CA\")\n",
        "  nres = np.sum(asel)\n",
        "  print(f\"Chain {ch} has {nres} residues (CA atoms)\")"
      ],
      "execution_count": 13,
      "outputs": [
        {
          "output_type": "stream",
          "text": [
            "Chain B has 126 residues (CA atoms)\n",
            "Chain D has 102 residues (CA atoms)\n",
            "Chain I has 0 residues (CA atoms)\n",
            "Chain W has 0 residues (CA atoms)\n"
          ],
          "name": "stdout"
        }
      ]
    },
    {
      "cell_type": "markdown",
      "metadata": {
        "id": "DSmqG7K_Wn24",
        "colab_type": "text"
      },
      "source": [
        "## How many atoms?"
      ]
    },
    {
      "cell_type": "code",
      "metadata": {
        "id": "J6nLNymvctpu",
        "colab_type": "code",
        "colab": {
          "base_uri": "https://localhost:8080/",
          "height": 156
        },
        "outputId": "d6852dc9-2f21-49b1-eaa3-6ec911129a2b"
      },
      "source": [
        "for ch in np.unique(m.chain):\n",
        "  tmp = m.copy()\n",
        "  tmp.filter(f\"protein and chain {ch}\")\n",
        "  nat = tmp.numAtoms\n",
        "  print(f\"Chain {ch} has {nat} atoms\")"
      ],
      "execution_count": 14,
      "outputs": [
        {
          "output_type": "stream",
          "text": [
            "2020-04-23 18:10:15,466 - moleculekit.molecule - INFO - Removed 41407 atoms. 1872 atoms remaining in the molecule.\n"
          ],
          "name": "stderr"
        },
        {
          "output_type": "stream",
          "text": [
            "Chain B has 1872 atoms\n"
          ],
          "name": "stdout"
        },
        {
          "output_type": "stream",
          "text": [
            "2020-04-23 18:10:16,437 - moleculekit.molecule - INFO - Removed 41689 atoms. 1590 atoms remaining in the molecule.\n"
          ],
          "name": "stderr"
        },
        {
          "output_type": "stream",
          "text": [
            "Chain D has 1590 atoms\n"
          ],
          "name": "stdout"
        },
        {
          "output_type": "stream",
          "text": [
            "2020-04-23 18:10:17,433 - moleculekit.molecule - INFO - Removed 43279 atoms. 0 atoms remaining in the molecule.\n"
          ],
          "name": "stderr"
        },
        {
          "output_type": "stream",
          "text": [
            "Chain I has 0 atoms\n"
          ],
          "name": "stdout"
        },
        {
          "output_type": "stream",
          "text": [
            "2020-04-23 18:10:18,405 - moleculekit.molecule - INFO - Removed 43279 atoms. 0 atoms remaining in the molecule.\n"
          ],
          "name": "stderr"
        },
        {
          "output_type": "stream",
          "text": [
            "Chain W has 0 atoms\n"
          ],
          "name": "stdout"
        }
      ]
    },
    {
      "cell_type": "markdown",
      "metadata": {
        "id": "sX4VJ-yOWee3",
        "colab_type": "text"
      },
      "source": [
        "## Is your structure solvated? If so, remove solvent."
      ]
    },
    {
      "cell_type": "code",
      "metadata": {
        "id": "SR_T0opecuG0",
        "colab_type": "code",
        "colab": {
          "base_uri": "https://localhost:8080/",
          "height": 69
        },
        "outputId": "1eca59ca-71e7-42f8-d0ab-8938365a627a"
      },
      "source": [
        "nwat = np.sum(m.atomselect(\"water\"))\n",
        "print(nwat)\n",
        "\n",
        "m_nowater = m.copy()\n",
        "m_nowater.filter(\"not water\")"
      ],
      "execution_count": 15,
      "outputs": [
        {
          "output_type": "stream",
          "text": [
            "39759\n"
          ],
          "name": "stdout"
        },
        {
          "output_type": "stream",
          "text": [
            "2020-04-23 18:10:20,112 - moleculekit.molecule - INFO - Removed 39759 atoms. 3520 atoms remaining in the molecule.\n"
          ],
          "name": "stderr"
        },
        {
          "output_type": "execute_result",
          "data": {
            "text/plain": [
              "array([ 1872,  1873,  1874, ..., 43219, 43220, 43221], dtype=int32)"
            ]
          },
          "metadata": {
            "tags": []
          },
          "execution_count": 15
        }
      ]
    },
    {
      "cell_type": "markdown",
      "metadata": {
        "id": "z32YxiwzW2fJ",
        "colab_type": "text"
      },
      "source": [
        "## How many frames? How many nanoseconds?"
      ]
    },
    {
      "cell_type": "code",
      "metadata": {
        "id": "Reywm7LHcurF",
        "colab_type": "code",
        "colab": {
          "base_uri": "https://localhost:8080/",
          "height": 34
        },
        "outputId": "788b6a52-e71a-4364-be91-e0b364991233"
      },
      "source": [
        "nf = m.numFrames\n",
        "print(f\"There are {nf} frames\")"
      ],
      "execution_count": 16,
      "outputs": [
        {
          "output_type": "stream",
          "text": [
            "There are 80 frames\n"
          ],
          "name": "stdout"
        }
      ]
    },
    {
      "cell_type": "markdown",
      "metadata": {
        "id": "-dP5Hq8GXBMP",
        "colab_type": "text"
      },
      "source": [
        "## Count how many species of ions and how many of each"
      ]
    },
    {
      "cell_type": "code",
      "metadata": {
        "id": "-98otVpScwPn",
        "colab_type": "code",
        "colab": {
          "base_uri": "https://localhost:8080/",
          "height": 156
        },
        "outputId": "64fc3cd2-6356-4a8a-af7a-576d04db4a07"
      },
      "source": [
        "ions = m_nowater.copy()\n",
        "ions.filter(\"ions\")\n",
        "ions.name"
      ],
      "execution_count": 17,
      "outputs": [
        {
          "output_type": "stream",
          "text": [
            "2020-04-23 18:10:20,235 - moleculekit.molecule - INFO - Removed 3462 atoms. 58 atoms remaining in the molecule.\n"
          ],
          "name": "stderr"
        },
        {
          "output_type": "execute_result",
          "data": {
            "text/plain": [
              "array(['CAL', 'CAL', 'CLA', 'CLA', 'CLA', 'CLA', 'CLA', 'CLA', 'CLA',\n",
              "       'CLA', 'CLA', 'CLA', 'CLA', 'CLA', 'CLA', 'CLA', 'CLA', 'CLA',\n",
              "       'CLA', 'CLA', 'CLA', 'CLA', 'CLA', 'CLA', 'CLA', 'CLA', 'CLA',\n",
              "       'CLA', 'CLA', 'CLA', 'CLA', 'CLA', 'CLA', 'SOD', 'SOD', 'SOD',\n",
              "       'SOD', 'SOD', 'SOD', 'SOD', 'SOD', 'SOD', 'SOD', 'SOD', 'SOD',\n",
              "       'SOD', 'SOD', 'SOD', 'SOD', 'SOD', 'SOD', 'SOD', 'SOD', 'SOD',\n",
              "       'SOD', 'SOD', 'SOD', 'SOD'], dtype=object)"
            ]
          },
          "metadata": {
            "tags": []
          },
          "execution_count": 17
        }
      ]
    },
    {
      "cell_type": "code",
      "metadata": {
        "id": "VAaa8qfofpkZ",
        "colab_type": "code",
        "colab": {
          "base_uri": "https://localhost:8080/",
          "height": 69
        },
        "outputId": "f9673900-556e-4be3-b16b-a4e7089c05c9"
      },
      "source": [
        "for i in np.unique(ions.name):\n",
        "  ni = sum(ions.atomselect(f\"name {i}\"))\n",
        "  print(f\"Ion {i} has {ni} atoms\")\n",
        "\n",
        "# Alternatively: np.unique(ions.name, return_counts=True)"
      ],
      "execution_count": 18,
      "outputs": [
        {
          "output_type": "stream",
          "text": [
            "Ion CAL has 2 atoms\n",
            "Ion CLA has 31 atoms\n",
            "Ion SOD has 25 atoms\n"
          ],
          "name": "stdout"
        }
      ]
    },
    {
      "cell_type": "markdown",
      "metadata": {
        "id": "P3ZTKK31hO5t",
        "colab_type": "text"
      },
      "source": [
        "Now keep only chain D and align to its frame 0"
      ]
    },
    {
      "cell_type": "code",
      "metadata": {
        "id": "wTCDAC34hTIu",
        "colab_type": "code",
        "colab": {
          "base_uri": "https://localhost:8080/",
          "height": 52
        },
        "outputId": "35182c6e-ef9b-41d8-c605-b40682a00ab8"
      },
      "source": [
        "md = m.copy()\n",
        "md.filter(\"protein and chain D and name CA\")\n"
      ],
      "execution_count": 19,
      "outputs": [
        {
          "output_type": "stream",
          "text": [
            "2020-04-23 18:10:21,530 - moleculekit.molecule - INFO - Removed 43177 atoms. 102 atoms remaining in the molecule.\n"
          ],
          "name": "stderr"
        },
        {
          "output_type": "execute_result",
          "data": {
            "text/plain": [
              "array([    0,     1,     2, ..., 43276, 43277, 43278], dtype=int32)"
            ]
          },
          "metadata": {
            "tags": []
          },
          "execution_count": 19
        }
      ]
    },
    {
      "cell_type": "markdown",
      "metadata": {
        "id": "NTYdAs4EXmM6",
        "colab_type": "text"
      },
      "source": [
        "## Align to the G2's first frame"
      ]
    },
    {
      "cell_type": "code",
      "metadata": {
        "id": "krSApeCTcxPq",
        "colab_type": "code",
        "colab": {
          "base_uri": "https://localhost:8080/",
          "height": 86
        },
        "outputId": "5d23a9d9-7b7d-47fc-c7d4-46c4b4e74bd4"
      },
      "source": [
        "md.align(\"name CA\")\n",
        "\n",
        "# In case you want to inspect\n",
        "md.write(\"check.pdb\")\n",
        "md.write(\"check.xtc\")"
      ],
      "execution_count": 20,
      "outputs": [
        {
          "output_type": "stream",
          "text": [
            "/usr/local/lib/python3.6/dist-packages/moleculekit/align.py:16: NumbaPerformanceWarning: np.dot() is faster on contiguous arrays, called on (array(float32, 2d, A), array(float32, 2d, A))\n",
            "  covariance = np.dot(P.T, Q)\n",
            "/usr/local/lib/python3.6/dist-packages/moleculekit/align.py:54: NumbaPerformanceWarning: np.dot() is faster on contiguous arrays, called on (array(float32, 2d, A), array(float32, 2d, A))\n",
            "  all1 = np.dot(all1, rot.T)\n"
          ],
          "name": "stderr"
        }
      ]
    },
    {
      "cell_type": "markdown",
      "metadata": {
        "id": "5RX-Ibn6u7cQ",
        "colab_type": "text"
      },
      "source": [
        "## Inspect the shape of the coordinates. \n",
        "\n",
        "They are organized as follows: atoms x [xyz] x frames"
      ]
    },
    {
      "cell_type": "code",
      "metadata": {
        "id": "4CvsnK_xu6gp",
        "colab_type": "code",
        "colab": {
          "base_uri": "https://localhost:8080/",
          "height": 34
        },
        "outputId": "1f07833d-dad9-41f8-9db8-0149b0fa46fe"
      },
      "source": [
        "md.coords.shape"
      ],
      "execution_count": 21,
      "outputs": [
        {
          "output_type": "execute_result",
          "data": {
            "text/plain": [
              "(102, 3, 80)"
            ]
          },
          "metadata": {
            "tags": []
          },
          "execution_count": 21
        }
      ]
    },
    {
      "cell_type": "markdown",
      "metadata": {
        "id": "UR1md0GgXsNZ",
        "colab_type": "text"
      },
      "source": [
        "## Compute backbone global RMSD(t) \n",
        "\n",
        "![immagine.png](data:image/png;base64,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)"
      ]
    },
    {
      "cell_type": "code",
      "metadata": {
        "id": "D0VGhFJDcxxC",
        "colab_type": "code",
        "colab": {
          "base_uri": "https://localhost:8080/",
          "height": 260
        },
        "outputId": "854cfc1c-4d37-4c50-e9b1-2a654f6f452a"
      },
      "source": [
        "T = md.numFrames\n",
        "N = md.numAtoms # CA only: 1 atom = 1 residue\n",
        "\n",
        "rmsdT = np.zeros((T))\n",
        "X = md.coords[:,:,0]  # First frame, all axes, all atoms\n",
        "\n",
        "for t in range(T):\n",
        "  Y = md.coords[:,:,t]  # Frame at t, all axes, all atoms\n",
        "  d2 = (X-Y)**2   # This is still a matrix\n",
        "  sd2 = np.sum(d2)/N\n",
        "  rmsdT[t]=np.sqrt(sd2)\n",
        "\n",
        "print(rmsdT)"
      ],
      "execution_count": 22,
      "outputs": [
        {
          "output_type": "stream",
          "text": [
            "[0.         0.82842946 1.05544773 0.93853878 1.08333973 1.30272074\n",
            " 1.11527914 0.93128822 0.96388051 0.98519583 1.353881   1.24414072\n",
            " 1.37935483 1.22356928 1.42647068 1.16690134 1.23553916 1.19546493\n",
            " 1.20277102 1.02297115 1.25717569 1.16625664 1.27760951 1.0851937\n",
            " 1.00021562 1.01993867 1.01860151 1.05558942 0.98216355 1.25240403\n",
            " 1.21906382 1.24838536 1.15900866 1.09457693 1.16679358 0.94538561\n",
            " 0.99107854 1.12425756 0.96595429 1.05542431 0.98756963 1.13863105\n",
            " 1.30065842 1.05669856 1.19505366 1.11283672 1.21754712 1.20406445\n",
            " 1.44376319 1.46410909 1.19801261 1.33287811 1.15781186 1.20199547\n",
            " 1.10337311 1.05041815 1.16629993 1.16994633 1.08975514 1.19704641\n",
            " 1.27370167 1.01386485 1.24716355 1.58714828 1.54043483 1.57758525\n",
            " 1.72665079 1.66481208 1.98547979 1.92099483 1.97054851 2.15665811\n",
            " 1.72762772 1.86547154 1.95342315 1.88536329 1.29069592 1.54156787\n",
            " 1.56915865 1.80288965]\n"
          ],
          "name": "stdout"
        }
      ]
    },
    {
      "cell_type": "code",
      "metadata": {
        "id": "jvatC9MT2iOU",
        "colab_type": "code",
        "colab": {
          "base_uri": "https://localhost:8080/",
          "height": 235
        },
        "outputId": "01d4cdf2-349d-4c37-8359-7ab2c1c358f5"
      },
      "source": [
        "plt.figure(figsize=(10,5))\n",
        "plt.plot(np.arange(nF), rmsdT)\n",
        "plt.xlabel(\"Simulation time (ns)\")\n",
        "plt.ylabel(\"Cα RMSD (Å)\")"
      ],
      "execution_count": 23,
      "outputs": [
        {
          "output_type": "error",
          "ename": "NameError",
          "evalue": "ignored",
          "traceback": [
            "\u001b[0;31m---------------------------------------------------------------------------\u001b[0m",
            "\u001b[0;31mNameError\u001b[0m                                 Traceback (most recent call last)",
            "\u001b[0;32m<ipython-input-23-abd0d9da63d6>\u001b[0m in \u001b[0;36m<module>\u001b[0;34m()\u001b[0m\n\u001b[1;32m      1\u001b[0m \u001b[0mplt\u001b[0m\u001b[0;34m.\u001b[0m\u001b[0mfigure\u001b[0m\u001b[0;34m(\u001b[0m\u001b[0mfigsize\u001b[0m\u001b[0;34m=\u001b[0m\u001b[0;34m(\u001b[0m\u001b[0;36m10\u001b[0m\u001b[0;34m,\u001b[0m\u001b[0;36m5\u001b[0m\u001b[0;34m)\u001b[0m\u001b[0;34m)\u001b[0m\u001b[0;34m\u001b[0m\u001b[0;34m\u001b[0m\u001b[0m\n\u001b[0;32m----> 2\u001b[0;31m \u001b[0mplt\u001b[0m\u001b[0;34m.\u001b[0m\u001b[0mplot\u001b[0m\u001b[0;34m(\u001b[0m\u001b[0mnp\u001b[0m\u001b[0;34m.\u001b[0m\u001b[0marange\u001b[0m\u001b[0;34m(\u001b[0m\u001b[0mnF\u001b[0m\u001b[0;34m)\u001b[0m\u001b[0;34m,\u001b[0m \u001b[0mrmsdT\u001b[0m\u001b[0;34m)\u001b[0m\u001b[0;34m\u001b[0m\u001b[0;34m\u001b[0m\u001b[0m\n\u001b[0m\u001b[1;32m      3\u001b[0m \u001b[0mplt\u001b[0m\u001b[0;34m.\u001b[0m\u001b[0mxlabel\u001b[0m\u001b[0;34m(\u001b[0m\u001b[0;34m\"Simulation time (ns)\"\u001b[0m\u001b[0;34m)\u001b[0m\u001b[0;34m\u001b[0m\u001b[0;34m\u001b[0m\u001b[0m\n\u001b[1;32m      4\u001b[0m \u001b[0mplt\u001b[0m\u001b[0;34m.\u001b[0m\u001b[0mylabel\u001b[0m\u001b[0;34m(\u001b[0m\u001b[0;34m\"Cα RMSD (Å)\"\u001b[0m\u001b[0;34m)\u001b[0m\u001b[0;34m\u001b[0m\u001b[0;34m\u001b[0m\u001b[0m\n",
            "\u001b[0;31mNameError\u001b[0m: name 'nF' is not defined"
          ]
        },
        {
          "output_type": "display_data",
          "data": {
            "text/plain": [
              "<Figure size 720x360 with 0 Axes>"
            ]
          },
          "metadata": {
            "tags": []
          }
        }
      ]
    },
    {
      "cell_type": "code",
      "metadata": {
        "id": "QGVD4l8cKxGz",
        "colab_type": "code",
        "colab": {}
      },
      "source": [
        "# This is an alternative implementation which uses moleculekit \"projection\" functions\n",
        "\n",
        "from moleculekit.projections.metricrmsd import *\n",
        "rmsdT_alt=MetricRmsd(m_nowater,\"chain D and protein and name CA\").project(m_nowater)\n",
        "\n",
        "plt.figure(figsize=(10,5))\n",
        "plt.plot(rmsdT_alt)"
      ],
      "execution_count": 0,
      "outputs": []
    },
    {
      "cell_type": "markdown",
      "metadata": {
        "id": "N46UVmk7X3j5",
        "colab_type": "text"
      },
      "source": [
        "## Compute displacements *by residue and time*."
      ]
    },
    {
      "cell_type": "code",
      "metadata": {
        "id": "ISRedtqZcyMs",
        "colab_type": "code",
        "colab": {}
      },
      "source": [
        "rmsdRT = np.zeros((T,N))\n",
        "\n",
        "for i in range(N):\n",
        "  Xi = md.coords[i,:,0] # First frame, all axes, atom i\n",
        "  for t in range(T):\n",
        "    Yi = md.coords[i,:,t]  # Time t, atom i, 3D vector\n",
        "    dist = np.sum((Xi-Yi)**2)   # Displacement^2\n",
        "    rmsdRT[t,i]=np.sqrt(dist)\n",
        "\n",
        "print(rmsdRT)"
      ],
      "execution_count": 0,
      "outputs": []
    },
    {
      "cell_type": "code",
      "metadata": {
        "id": "dtQFpWln7T3c",
        "colab_type": "code",
        "colab": {}
      },
      "source": [
        "plt.figure(figsize=(10,5))\n",
        "plt.imshow(rmsdRT.T, aspect=\"auto\", cmap=\"binary\")\n",
        "plt.ylabel(\"Residue\")\n",
        "plt.xlabel(\"Time (ns)\")"
      ],
      "execution_count": 0,
      "outputs": []
    },
    {
      "cell_type": "markdown",
      "metadata": {
        "id": "1sTldTxCN9_a",
        "colab_type": "text"
      },
      "source": [
        "## Average over time"
      ]
    },
    {
      "cell_type": "code",
      "metadata": {
        "id": "_O-zgcOr7YFk",
        "colab_type": "code",
        "colab": {}
      },
      "source": [
        "plt.figure(figsize=(10,5))\n",
        "rmsdR = np.mean(rmsdRT,axis = 0) # <-- note: mean over axis 0, which is time\n",
        "plt.plot(np.arange(N), rmsdR)\n",
        "plt.xlabel(\"Residue\")\n",
        "plt.ylabel(\"Mean displacement (A)\")"
      ],
      "execution_count": 0,
      "outputs": []
    },
    {
      "cell_type": "code",
      "metadata": {
        "id": "gvJ82ApjAbRC",
        "colab_type": "code",
        "colab": {}
      },
      "source": [
        "# Alternative implementation using projections\n",
        "\n",
        "from moleculekit.projections.metricfluctuation import *\n",
        "\n",
        "m_nowater_fr0 = m_nowater.copy()\n",
        "m_nowater_fr0.dropFrames(keep=0)\n",
        "rmsdRT_alt=MetricFluctuation(\"chain D and protein and name CA\", refmol=m_nowater_fr0).project(m_nowater)\n",
        "\n",
        "plt.figure(figsize=(10,5))\n",
        "plt.imshow(np.sqrt(rmsdRT_alt.T), aspect=\"auto\", cmap=\"binary\")\n",
        "plt.ylabel(\"Residue\")\n",
        "plt.xlabel(\"Time (ns)\")\n"
      ],
      "execution_count": 0,
      "outputs": []
    },
    {
      "cell_type": "code",
      "metadata": {
        "id": "Zn-DwbayDXIH",
        "colab_type": "code",
        "colab": {}
      },
      "source": [
        ""
      ],
      "execution_count": 0,
      "outputs": []
    }
  ]
}